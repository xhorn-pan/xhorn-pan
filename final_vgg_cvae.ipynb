{
  "nbformat": 4,
  "nbformat_minor": 0,
  "metadata": {
    "colab": {
      "name": "final-vgg-cvae.ipynb",
      "provenance": [],
      "collapsed_sections": [],
      "toc_visible": true,
      "include_colab_link": true
    },
    "kernelspec": {
      "name": "python3",
      "display_name": "Python 3"
    }
  },
  "cells": [
    {
      "cell_type": "markdown",
      "metadata": {
        "id": "view-in-github",
        "colab_type": "text"
      },
      "source": [
        "<a href=\"https://colab.research.google.com/github/xhorn-pan/xhorn-pan/blob/main/final_vgg_cvae.ipynb\" target=\"_parent\"><img src=\"https://colab.research.google.com/assets/colab-badge.svg\" alt=\"Open In Colab\"/></a>"
      ]
    },
    {
      "cell_type": "markdown",
      "metadata": {
        "id": "xfNT-mlFwxVM"
      },
      "source": [
        "# Convolutional Variational Autoencoder"
      ]
    },
    {
      "cell_type": "markdown",
      "metadata": {
        "id": "3f4StLYogtB8"
      },
      "source": [
        "## Env prepare"
      ]
    },
    {
      "cell_type": "code",
      "metadata": {
        "id": "P-JuIu2N_SQf"
      },
      "source": [
        "!pip uninstall -y tensorflow-gpu tensorflow \n",
        "!pip install -q tf-nightly\n"
      ],
      "execution_count": null,
      "outputs": []
    },
    {
      "cell_type": "code",
      "metadata": {
        "id": "BM6bwfcy-IuL"
      },
      "source": [
        "!pip uninstall -y tf-nightly\n",
        "!pip install tensorflow-gpu"
      ],
      "execution_count": null,
      "outputs": []
    },
    {
      "cell_type": "markdown",
      "metadata": {
        "id": "5WCmPO9xmJs4"
      },
      "source": [
        ""
      ]
    },
    {
      "cell_type": "code",
      "metadata": {
        "id": "Q6q45POJ4-3n"
      },
      "source": [
        "import tensorflow as tf\n",
        "print(tf.__version__)\n",
        "from tensorflow.python.client import device_lib\n",
        "\n",
        "device_lib.list_local_devices()"
      ],
      "execution_count": null,
      "outputs": []
    },
    {
      "cell_type": "markdown",
      "metadata": {
        "id": "e1_Y75QXJS6h"
      },
      "source": [
        "## Import TensorFlow and other libraries"
      ]
    },
    {
      "cell_type": "code",
      "metadata": {
        "id": "IijGIj1bFmmw"
      },
      "source": [
        "from google.colab import drive\n",
        "drive.mount('/content/drive')"
      ],
      "execution_count": null,
      "outputs": []
    },
    {
      "cell_type": "code",
      "metadata": {
        "id": "YfIk2es3hJEd",
        "colab": {
          "base_uri": "https://localhost:8080/",
          "height": 35
        },
        "outputId": "a8df2218-adce-40fe-b664-3bf2629f4efd"
      },
      "source": [
        "from __future__ import absolute_import, division, print_function, unicode_literals\n",
        "%load_ext tensorboard\n",
        "try:\n",
        "  # %tensorflow_version only exists in Colab.\n",
        "  %tensorflow_version 2.x\n",
        "except Exception:\n",
        "  pass\n",
        "import tensorflow as tf\n",
        "\n",
        "import os\n",
        "import time\n",
        "import numpy as np\n",
        "import glob\n",
        "import matplotlib.pyplot as plt\n",
        "\n",
        "#logdir = \"/content/drive/My Drive/Colab Notebooks/vgg-logs\"\n",
        "# logdir = \"./vgg-logs\"\n",
        "# writer = tf.summary.create_file_writer(logdir)"
      ],
      "execution_count": null,
      "outputs": [
        {
          "output_type": "stream",
          "text": [
            "TensorFlow 2.x selected.\n"
          ],
          "name": "stdout"
        }
      ]
    },
    {
      "cell_type": "code",
      "metadata": {
        "id": "MxLPonVmndAm"
      },
      "source": [
        "import pathlib\n",
        "files_root = pathlib.Path(\"/content/drive/My Drive/Colab Notebooks/vggface2_test_64x64.zip\")\n",
        "data_dir = \"./ds_vgg\"\n",
        "import zipfile\n",
        "with zipfile.ZipFile(files_root, 'r') as zip_ref:\n",
        "  zip_ref.extractall(data_dir)"
      ],
      "execution_count": null,
      "outputs": []
    },
    {
      "cell_type": "markdown",
      "metadata": {
        "id": "iYn4MdZnKCey"
      },
      "source": [
        "## Load the vgg dataset"
      ]
    },
    {
      "cell_type": "code",
      "metadata": {
        "id": "iusSgoI-n-3g"
      },
      "source": [
        "data_root = pathlib.Path(data_dir + \"/test\")\n",
        "all_faces_paths = list(data_root.glob(\"*/*\"))#[0::2]\n",
        "#all_faces_paths = all_faces_paths[0::2]\n",
        "all_faces_paths = [str(path) for path in all_faces_paths]\n",
        "\n",
        "\n",
        "train_dataset = [path for i, path in enumerate(all_faces_paths) if i % 10 != 0]\n",
        "test_dataset = [path for i, path in enumerate(all_faces_paths) if i % 10 == 0]\n",
        "\n",
        "trs, ts = len(train_dataset), len(test_dataset)\n",
        "batch_size = 1024\n",
        "AUTOTUNE = tf.data.experimental.AUTOTUNE\n",
        "\n",
        "#load dataset\n",
        "def preprocess_image(path):\n",
        "  image = tf.io.read_file(path)\n",
        "  image = tf.image.decode_jpeg(image, channels=3)\n",
        "  #image = (tf.cast(image, tf.float32) - 127.5) / 127.5 # normalize to [-1,1] range\n",
        "  image = tf.cast(image, tf.float32) / 255.0\n",
        "\n",
        "  #image[image >= .5] = 1.\n",
        "  #image[image < .5] = 0.\n",
        "  image = tf.math.round(image)\n",
        "\n",
        "  return image\n",
        "\n",
        "train_dataset = tf.data.Dataset.from_tensor_slices(train_dataset)\n",
        "train_dataset = train_dataset.map(preprocess_image, num_parallel_calls=AUTOTUNE).cache()\n",
        "train_dataset = train_dataset.shuffle(buffer_size=trs).batch(batch_size,\n",
        "                           drop_remainder=True).prefetch(buffer_size=AUTOTUNE)\n",
        "\n",
        "test_dataset = tf.data.Dataset.from_tensor_slices(test_dataset)\n",
        "test_dataset = test_dataset.map(preprocess_image, num_parallel_calls=AUTOTUNE).cache()\n",
        "test_dataset = test_dataset.shuffle(buffer_size=trs).batch(batch_size,\n",
        "                           drop_remainder=True).prefetch(buffer_size=AUTOTUNE)\n",
        "\n"
      ],
      "execution_count": null,
      "outputs": []
    },
    {
      "cell_type": "markdown",
      "metadata": {
        "id": "THY-sZMiQ4UV"
      },
      "source": [
        "## Wire up the generative and inference network with *tf.keras.Sequential*\n",
        "\n",
        "In our VAE example, we use two small ConvNets for the generative and inference network. Since these neural nets are small, we use `tf.keras.Sequential` to simplify our code. Let $x$ and $z$ denote the observation and latent variable respectively in the following descriptions.\n",
        "\n",
        "### Generative Network\n",
        "This defines the generative model which takes a latent encoding as input, and outputs the parameters for a conditional distribution of the observation, i.e. $p(x|z)$. Additionally, we use a unit Gaussian prior $p(z)$ for the latent variable.\n",
        "\n",
        "### Inference Network\n",
        "This defines an approximate posterior distribution $q(z|x)$, which takes as input an observation and outputs a set of parameters for the conditional distribution of the latent representation. In this example, we simply model this distribution as a diagonal Gaussian. In this case, the inference network outputs the mean and log-variance parameters of a factorized Gaussian (log-variance instead of the variance directly is for numerical stability).\n",
        "\n",
        "### Reparameterization Trick\n",
        "During optimization, we can sample from $q(z|x)$ by first sampling from a unit Gaussian, and then multiplying by the standard deviation and adding the mean. This ensures the gradients could pass through the sample to the inference network parameters.\n",
        "\n",
        "### Network architecture\n",
        "For the inference network, we use two convolutional layers followed by a fully-connected layer. In the generative network, we mirror this architecture by using a fully-connected layer followed by three convolution transpose layers (a.k.a. deconvolutional layers in some contexts). Note, it's common practice to avoid using batch normalization when training VAEs, since the additional stochasticity due to using mini-batches may aggravate instability on top of the stochasticity from sampling."
      ]
    },
    {
      "cell_type": "markdown",
      "metadata": {
        "id": "c2pUDANgcOhC"
      },
      "source": [
        "# New Section"
      ]
    },
    {
      "cell_type": "code",
      "metadata": {
        "id": "VGLbvBEmjK0a"
      },
      "source": [
        "k_initializer = tf.initializers.TruncatedNormal(stddev=0.02)\n",
        "drop_rate = 0.3\n",
        "class CVAE(tf.keras.Model):\n",
        "  def __init__(self, latent_dim):\n",
        "    super(CVAE, self).__init__()\n",
        "    self.latent_dim = latent_dim\n",
        "    self.inference_net = tf.keras.Sequential(\n",
        "      [\n",
        "          tf.keras.layers.InputLayer(input_shape=(64, 64, 3)),\n",
        "          #tf.keras.layers.Conv2D(\n",
        "          #    filters=32, kernel_size=4, strides=(2, 2), activation='relu'),\n",
        "          tf.keras.layers.Conv2D(\n",
        "              filters=64, kernel_size=3, \n",
        "              #strides=(2, 2), \n",
        "              padding=\"SAME\", \n",
        "              #kernel_initializer=k_initializer, \n",
        "              activation='relu'),\n",
        "          #tf.keras.layers.Dropout(drop_rate),\n",
        "          tf.keras.layers.Conv2D(\n",
        "              filters=64, kernel_size=3, \n",
        "              #strides=(2, 2), \n",
        "              padding=\"SAME\", \n",
        "              #kernel_initializer=k_initializer, \n",
        "              activation='relu'),\n",
        "          tf.keras.layers.MaxPooling2D(pool_size=(2, 2)),\n",
        "          tf.keras.layers.Dropout(drop_rate),\n",
        "          tf.keras.layers.Conv2D(\n",
        "              filters=128, kernel_size=3, \n",
        "              #strides=(2, 2), \n",
        "              padding=\"SAME\", \n",
        "              #kernel_initializer=k_initializer, \n",
        "              activation='relu'),\n",
        "          #tf.keras.layers.Dropout(drop_rate),\n",
        "          tf.keras.layers.Conv2D(\n",
        "              filters=128, kernel_size=3, \n",
        "              #strides=(2, 2), \n",
        "              padding=\"SAME\", \n",
        "              #kernel_initializer=k_initializer, \n",
        "              activation='relu'),\n",
        "          #tf.keras.layers.Dropout(drop_rate),\n",
        "          tf.keras.layers.MaxPooling2D(pool_size=(2, 2)),\n",
        "          tf.keras.layers.Dropout(drop_rate),\n",
        "          # tf.keras.layers.Conv2D(\n",
        "          #     filters=256, kernel_size=3, \n",
        "          #     #strides=(2, 2), \n",
        "          #     padding=\"SAME\", \n",
        "          #     kernel_initializer=k_initializer, activation='relu'),\n",
        "          tf.keras.layers.Flatten(),\n",
        "          # No activation\n",
        "          tf.keras.layers.Dropout(drop_rate),\n",
        "          tf.keras.layers.Dense(latent_dim + latent_dim),\n",
        "      ]\n",
        "    )\n",
        "\n",
        "    self.generative_net = tf.keras.Sequential(\n",
        "        [\n",
        "          tf.keras.layers.InputLayer(input_shape=(latent_dim,)),\n",
        "          tf.keras.layers.Dropout(drop_rate),\n",
        "          tf.keras.layers.Dense(units=4*4*256, activation=tf.nn.leaky_relu),\n",
        "          tf.keras.layers.Reshape(target_shape=(4, 4, 256)),\n",
        "          tf.keras.layers.Conv2DTranspose(\n",
        "              filters=256,\n",
        "              kernel_size=3,\n",
        "              strides=(2, 2),\n",
        "              padding=\"SAME\",\n",
        "              #kernel_initializer=k_initializer,\n",
        "              activation=tf.nn.leaky_relu),\n",
        "          #tf.keras.layers.Dropout(drop_rate),\n",
        "          tf.keras.layers.UpSampling2D(), # .MaxPooling2D(pool_size=(2, 2)),\n",
        "          tf.keras.layers.Dropout(drop_rate),\n",
        "          tf.keras.layers.Conv2DTranspose(\n",
        "              filters=128,\n",
        "              kernel_size=3,\n",
        "              #strides=(2, 2),\n",
        "              padding=\"SAME\",\n",
        "              #kernel_initializer=k_initializer,\n",
        "              activation=tf.nn.leaky_relu),\n",
        "          #tf.keras.layers.Dropout(drop_rate),\n",
        "          tf.keras.layers.Conv2DTranspose(\n",
        "              filters=128,\n",
        "              kernel_size=3,\n",
        "              #strides=(2, 2),\n",
        "              padding=\"SAME\",\n",
        "              #kernel_initializer=k_initializer,\n",
        "              #ivation='relu'),\n",
        "              activation=tf.nn.leaky_relu),\n",
        "          #tf.keras.layers.Dropout(drop_rate),\n",
        "          tf.keras.layers.UpSampling2D(), # .MaxPooling2D(pool_size=(2, 2)),\n",
        "          tf.keras.layers.Dropout(drop_rate),\n",
        "          tf.keras.layers.Conv2DTranspose(\n",
        "              filters=64,\n",
        "              kernel_size=3,\n",
        "              #strides=(2, 2),\n",
        "              padding=\"SAME\",\n",
        "              #kernel_initializer=k_initializer,\n",
        "              activation=tf.nn.leaky_relu),\n",
        "          tf.keras.layers.Conv2DTranspose(\n",
        "              filters=64,\n",
        "              kernel_size=3,\n",
        "              #strides=(2, 2),\n",
        "              padding=\"SAME\",\n",
        "              #kernel_initializer=k_initializer,\n",
        "              activation=tf.nn.leaky_relu),\n",
        "          tf.keras.layers.UpSampling2D(), # .MaxPooling2D(pool_size=(2, 2)),\n",
        "          tf.keras.layers.Dropout(drop_rate),\n",
        "          # No activation\n",
        "          tf.keras.layers.Conv2DTranspose(\n",
        "              filters=3, kernel_size=3, strides=(1, 1), padding=\"SAME\"),\n",
        "        ]\n",
        "    )\n",
        "\n",
        "  @tf.function\n",
        "  def sample(self, eps=None):\n",
        "    if eps is None:\n",
        "      eps = tf.random.normal(shape=(100, self.latent_dim))\n",
        "    return self.decode(eps, apply_sigmoid=True)\n",
        "  @tf.function\n",
        "  def encode(self, x):\n",
        "    mean, logvar = tf.split(self.inference_net(x), num_or_size_splits=2, axis=1)\n",
        "    return mean, logvar\n",
        "\n",
        "  def reparameterize(self, mean, logvar):\n",
        "    eps = tf.random.normal(shape=mean.shape)\n",
        "    return eps * tf.exp(logvar * .5) + mean\n",
        "\n",
        "  def decode(self, z, apply_sigmoid=False):\n",
        "    logits = self.generative_net(z)\n",
        "    if apply_sigmoid:\n",
        "      probs = tf.sigmoid(logits)\n",
        "      return probs\n",
        "\n",
        "    return logits\n"
      ],
      "execution_count": null,
      "outputs": []
    },
    {
      "cell_type": "code",
      "metadata": {
        "id": "G-X66l0kXpya"
      },
      "source": [
        "latent_dim = 512\n",
        "num_examples_to_generate = 16\n",
        "\n",
        "# keeping the random vector constant for generation (prediction) so\n",
        "# it will be easier to see the improvement.\n",
        "noise = tf.random.normal(shape=[num_examples_to_generate, latent_dim])\n",
        "model = CVAE(latent_dim)\n",
        "model.generative_net.summary()\n",
        "model.inference_net.summary()\n",
        "tf.keras.utils.plot_model(model.generative_net, to_file=\"genertive.png\", show_shapes=True, show_layer_names=False)\n",
        "tf.keras.utils.plot_model(model.inference_net, to_file=\"inference.png\", show_shapes=True, show_layer_names=False)"
      ],
      "execution_count": null,
      "outputs": []
    },
    {
      "cell_type": "code",
      "metadata": {
        "id": "RmdVsmvhPxyy"
      },
      "source": [
        "def generate_and_save_images(model, epoch, test_input):\n",
        "  predictions = model.sample(test_input)#.numpy()\n",
        "  #predictions = (predictions + 1.0) / 2.0\n",
        "  fig = plt.figure(figsize=(4,4))\n",
        "\n",
        "  for i in range(predictions.shape[0]):\n",
        "      plt.subplot(4, 4, i+1)\n",
        "      plt.imshow(predictions[i, :, :, :])\n",
        "      plt.axis('off')\n",
        "\n",
        "  # tight_layout minimizes the overlap between 2 sub-plots\n",
        "  plt.savefig('/content/drive/My Drive/ml_logs/vae_image_at_epoch_{:04d}.png'.format(epoch))\n",
        "  plt.show()"
      ],
      "execution_count": null,
      "outputs": []
    },
    {
      "cell_type": "code",
      "metadata": {
        "id": "zNWYl_YHFCyv"
      },
      "source": [
        "generate_and_save_images(model, 0, noise)"
      ],
      "execution_count": null,
      "outputs": []
    },
    {
      "cell_type": "markdown",
      "metadata": {
        "id": "0FMYgY_mPfTi"
      },
      "source": [
        "## Define the loss function and the optimizer\n",
        "\n",
        "VAEs train by maximizing the evidence lower bound (ELBO) on the marginal log-likelihood:\n",
        "\n",
        "$$\\log p(x) \\ge \\text{ELBO} = \\mathbb{E}_{q(z|x)}\\left[\\log \\frac{p(x, z)}{q(z|x)}\\right].$$\n",
        "\n",
        "In practice, we optimize the single sample Monte Carlo estimate of this expectation:\n",
        "\n",
        "$$\\log p(x| z) + \\log p(z) - \\log q(z|x),$$\n",
        "where $z$ is sampled from $q(z|x)$.\n",
        "\n",
        "**Note**: we could also analytically compute the KL term, but here we incorporate all three terms in the Monte Carlo estimator for simplicity."
      ]
    },
    {
      "cell_type": "code",
      "metadata": {
        "id": "iWCn_PVdEJZ7"
      },
      "source": [
        "optimizer = tf.keras.optimizers.RMSprop(1e-4)\n",
        "\n",
        "def log_normal_pdf(sample, mean, logvar, raxis=1):\n",
        "  log2pi = tf.math.log(2. * np.pi)\n",
        "  return tf.reduce_sum(\n",
        "      -.5 * ((sample - mean) ** 2. * tf.exp(-logvar) + logvar + log2pi),\n",
        "      axis=raxis)\n",
        "\n",
        "@tf.function\n",
        "def compute_loss(model, x):\n",
        "  mean, logvar = model.encode(x)\n",
        "  z = model.reparameterize(mean, logvar)\n",
        "  x_logit = model.decode(z)\n",
        "\n",
        "  cross_ent = tf.nn.sigmoid_cross_entropy_with_logits(logits=x_logit, labels=x)\n",
        "  logpx_z = -tf.reduce_sum(cross_ent, axis=[1, 2, 3])\n",
        "  logpz = log_normal_pdf(z, 0., 0.)\n",
        "  logqz_x = log_normal_pdf(z, mean, logvar)\n",
        "  return -tf.reduce_mean(logpx_z + logpz - logqz_x)\n",
        "\n",
        "@tf.function\n",
        "def compute_apply_gradients(model, x, optimizer):\n",
        "  with tf.GradientTape() as tape:\n",
        "    loss = compute_loss(model, x)\n",
        "    #tf.summary.scalar(\"loss\", loss, description=None)\n",
        "  gradients = tape.gradient(loss, model.trainable_variables)\n",
        "  optimizer.apply_gradients(zip(gradients, model.trainable_variables))\n",
        "  return loss"
      ],
      "execution_count": null,
      "outputs": []
    },
    {
      "cell_type": "markdown",
      "metadata": {
        "id": "Rw1fkAczTQYh"
      },
      "source": [
        "## Training\n",
        "\n",
        "* We start by iterating over the dataset\n",
        "* During each iteration, we pass the image to the encoder to obtain a set of mean and log-variance parameters of the approximate posterior $q(z|x)$\n",
        "* We then apply the *reparameterization trick* to sample from $q(z|x)$\n",
        "* Finally, we pass the reparameterized samples to the decoder to obtain the logits of the generative distribution $p(x|z)$\n",
        "* **Note:** Since we use the dataset loaded by keras with 60k datapoints in the training set and 10k datapoints in the test set, our resulting ELBO on the test set is slightly higher than reported results in the literature which uses dynamic binarization of Larochelle's MNIST.\n",
        "\n",
        "## Generate Images\n",
        "\n",
        "* After training, it is time to generate some images\n",
        "* We start by sampling a set of latent vectors from the unit Gaussian prior distribution $p(z)$\n",
        "* The generator will then convert the latent sample $z$ to logits of the observation, giving a distribution $p(x|z)$\n",
        "* Here we plot the probabilities of Bernoulli distributions\n"
      ]
    },
    {
      "cell_type": "code",
      "metadata": {
        "id": "2M7LmLtGEMQJ"
      },
      "source": [
        "#generate_and_save_images(model, 0, random_vector_for_generation)\n",
        "elbo_hist = []\n",
        "loss_hist = []\n",
        "epochs = 100\n",
        "for epoch in range(1, epochs + 1):\n",
        "  start_time = time.time()\n",
        "  for train_x in train_dataset:\n",
        "    print('.', end='')\n",
        "    cag_loss = compute_apply_gradients(model, train_x, optimizer)\n",
        "    loss_hist.append(cag_loss)\n",
        "  print('')\n",
        "  #tf.summary.trace_on(graph=True)\n",
        "  if epoch % 5 == 0:\n",
        "    #with writer.as_default():\n",
        "    #  tf.summary.trace_export(name=\"vae_model\", step=epoch)\n",
        "    #  writer.flush()\n",
        "    loss = tf.keras.metrics.Mean()\n",
        "    for test_x in test_dataset:\n",
        "      loss(compute_loss(model, test_x))\n",
        "    elbo = -loss.result()\n",
        "    elbo_hist.append(elbo)\n",
        "    #display.clear_output(wait=False)\n",
        "    print('Epoch: {}, Test set ELBO: {}, '\n",
        "          'time elapse for epoch {}'.format(epoch,elbo, time.time() - start_time))\n",
        "    generate_and_save_images(model, epoch, noise)"
      ],
      "execution_count": null,
      "outputs": []
    },
    {
      "cell_type": "code",
      "metadata": {
        "id": "JjFKSd6LBPpS"
      },
      "source": [
        "x = len(loss_hist)\n",
        "#y = len(d_loss_hist)\n",
        "x = np.arange(x)\n",
        "#xg = np.polyfit(x, g_loss_hist, 3)\n",
        "\n",
        "plt.plot(x, loss_hist)\n",
        "plt.savefig('/content/drive/My Drive/ml_logs/vae_loss.png')\n",
        "#plt.plot(x, d_loss_hist)\n",
        "plt.show()"
      ],
      "execution_count": null,
      "outputs": []
    },
    {
      "cell_type": "code",
      "metadata": {
        "id": "98Kvb1gmBjGt",
        "colab": {
          "base_uri": "https://localhost:8080/",
          "height": 265
        },
        "outputId": "739d9ece-b5fc-474e-dd29-d99c34838b8a"
      },
      "source": [
        "x = len(elbo_hist)\n",
        "#y = len(d_loss_hist)\n",
        "x = np.arange(x)\n",
        "#xg = np.polyfit(x, g_loss_hist, 3)\n",
        "\n",
        "plt.plot(x, elbo_hist)\n",
        "#plt.plot(x, d_loss_hist)\n",
        "plt.savefig('/content/drive/My Drive/ml_logs/vae_elbo_loss.png')\n",
        "plt.show()"
      ],
      "execution_count": null,
      "outputs": [
        {
          "output_type": "display_data",
          "data": {
            "image/png": "[encoded data removed]",
            "text/plain": [
              "<Figure size 432x288 with 1 Axes>"
            ]
          },
          "metadata": {
            "tags": []
          }
        }
      ]
    }
  ]
}